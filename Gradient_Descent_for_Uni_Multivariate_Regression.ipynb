{
  "nbformat": 4,
  "nbformat_minor": 0,
  "metadata": {
    "colab": {
      "name": "Gradient_Descent_for_Uni_Multivariate_Regression.ipynb",
      "provenance": [],
      "collapsed_sections": [],
      "authorship_tag": "ABX9TyN214yZ18ilhzHTncP0Jjlp",
      "include_colab_link": true
    },
    "kernelspec": {
      "name": "python3",
      "display_name": "Python 3"
    }
  },
  "cells": [
    {
      "cell_type": "markdown",
      "metadata": {
        "id": "view-in-github",
        "colab_type": "text"
      },
      "source": [
        "<a href=\"https://colab.research.google.com/github/universeatmyfeet/Machine_Learning/blob/master/Gradient_Descent_for_Uni_Multivariate_Regression.ipynb\" target=\"_parent\"><img src=\"https://colab.research.google.com/assets/colab-badge.svg\" alt=\"Open In Colab\"/></a>"
      ]
    },
    {
      "cell_type": "markdown",
      "metadata": {
        "id": "ee8LvepkzBSn",
        "colab_type": "text"
      },
      "source": [
        "# **Gradient Descent**"
      ]
    },
    {
      "cell_type": "markdown",
      "metadata": {
        "id": "uYM2_QloiNMj",
        "colab_type": "text"
      },
      "source": [
        "# **One Variable**"
      ]
    },
    {
      "cell_type": "code",
      "metadata": {
        "id": "pEout4N94IYR",
        "colab_type": "code",
        "colab": {}
      },
      "source": [
        "\n",
        "import pandas as pd"
      ],
      "execution_count": 0,
      "outputs": []
    },
    {
      "cell_type": "code",
      "metadata": {
        "id": "KYw2ygmuAAjJ",
        "colab_type": "code",
        "colab": {}
      },
      "source": [
        "data = pd.read_csv('https://raw.githubusercontent.com/UtkarshPathrabe/Machine-Learning-Stanford-University-Coursera/master/Programming%20Exercises/machine-learning-ex1/ex1/ex1data1.txt')"
      ],
      "execution_count": 0,
      "outputs": []
    },
    {
      "cell_type": "code",
      "metadata": {
        "id": "f-krZN0-4sV2",
        "colab_type": "code",
        "colab": {}
      },
      "source": [
        "data.columns = ['Population','Profit']"
      ],
      "execution_count": 0,
      "outputs": []
    },
    {
      "cell_type": "code",
      "metadata": {
        "id": "VIAr9d-QHFIm",
        "colab_type": "code",
        "outputId": "89cb9708-d7c3-4fd0-fd11-787a9dc4d831",
        "colab": {
          "base_uri": "https://localhost:8080/",
          "height": 195
        }
      },
      "source": [
        "#data.describe()\n",
        "data.head()"
      ],
      "execution_count": 4,
      "outputs": [
        {
          "output_type": "execute_result",
          "data": {
            "text/html": [
              "<div>\n",
              "<style scoped>\n",
              "    .dataframe tbody tr th:only-of-type {\n",
              "        vertical-align: middle;\n",
              "    }\n",
              "\n",
              "    .dataframe tbody tr th {\n",
              "        vertical-align: top;\n",
              "    }\n",
              "\n",
              "    .dataframe thead th {\n",
              "        text-align: right;\n",
              "    }\n",
              "</style>\n",
              "<table border=\"1\" class=\"dataframe\">\n",
              "  <thead>\n",
              "    <tr style=\"text-align: right;\">\n",
              "      <th></th>\n",
              "      <th>Population</th>\n",
              "      <th>Profit</th>\n",
              "    </tr>\n",
              "  </thead>\n",
              "  <tbody>\n",
              "    <tr>\n",
              "      <th>0</th>\n",
              "      <td>5.5277</td>\n",
              "      <td>9.1302</td>\n",
              "    </tr>\n",
              "    <tr>\n",
              "      <th>1</th>\n",
              "      <td>8.5186</td>\n",
              "      <td>13.6620</td>\n",
              "    </tr>\n",
              "    <tr>\n",
              "      <th>2</th>\n",
              "      <td>7.0032</td>\n",
              "      <td>11.8540</td>\n",
              "    </tr>\n",
              "    <tr>\n",
              "      <th>3</th>\n",
              "      <td>5.8598</td>\n",
              "      <td>6.8233</td>\n",
              "    </tr>\n",
              "    <tr>\n",
              "      <th>4</th>\n",
              "      <td>8.3829</td>\n",
              "      <td>11.8860</td>\n",
              "    </tr>\n",
              "  </tbody>\n",
              "</table>\n",
              "</div>"
            ],
            "text/plain": [
              "   Population   Profit\n",
              "0      5.5277   9.1302\n",
              "1      8.5186  13.6620\n",
              "2      7.0032  11.8540\n",
              "3      5.8598   6.8233\n",
              "4      8.3829  11.8860"
            ]
          },
          "metadata": {
            "tags": []
          },
          "execution_count": 4
        }
      ]
    },
    {
      "cell_type": "code",
      "metadata": {
        "id": "bV04PIUlzmHS",
        "colab_type": "code",
        "outputId": "d778bca8-fa2f-429c-8627-422c08fde341",
        "colab": {
          "base_uri": "https://localhost:8080/",
          "height": 284
        }
      },
      "source": [
        "data.describe()"
      ],
      "execution_count": 5,
      "outputs": [
        {
          "output_type": "execute_result",
          "data": {
            "text/html": [
              "<div>\n",
              "<style scoped>\n",
              "    .dataframe tbody tr th:only-of-type {\n",
              "        vertical-align: middle;\n",
              "    }\n",
              "\n",
              "    .dataframe tbody tr th {\n",
              "        vertical-align: top;\n",
              "    }\n",
              "\n",
              "    .dataframe thead th {\n",
              "        text-align: right;\n",
              "    }\n",
              "</style>\n",
              "<table border=\"1\" class=\"dataframe\">\n",
              "  <thead>\n",
              "    <tr style=\"text-align: right;\">\n",
              "      <th></th>\n",
              "      <th>Population</th>\n",
              "      <th>Profit</th>\n",
              "    </tr>\n",
              "  </thead>\n",
              "  <tbody>\n",
              "    <tr>\n",
              "      <th>count</th>\n",
              "      <td>96.000000</td>\n",
              "      <td>96.000000</td>\n",
              "    </tr>\n",
              "    <tr>\n",
              "      <th>mean</th>\n",
              "      <td>8.181151</td>\n",
              "      <td>5.716709</td>\n",
              "    </tr>\n",
              "    <tr>\n",
              "      <th>std</th>\n",
              "      <td>3.884451</td>\n",
              "      <td>5.404947</td>\n",
              "    </tr>\n",
              "    <tr>\n",
              "      <th>min</th>\n",
              "      <td>5.026900</td>\n",
              "      <td>-2.680700</td>\n",
              "    </tr>\n",
              "    <tr>\n",
              "      <th>25%</th>\n",
              "      <td>5.690950</td>\n",
              "      <td>1.952550</td>\n",
              "    </tr>\n",
              "    <tr>\n",
              "      <th>50%</th>\n",
              "      <td>6.735950</td>\n",
              "      <td>4.455300</td>\n",
              "    </tr>\n",
              "    <tr>\n",
              "      <th>75%</th>\n",
              "      <td>8.639925</td>\n",
              "      <td>6.879150</td>\n",
              "    </tr>\n",
              "    <tr>\n",
              "      <th>max</th>\n",
              "      <td>22.203000</td>\n",
              "      <td>24.147000</td>\n",
              "    </tr>\n",
              "  </tbody>\n",
              "</table>\n",
              "</div>"
            ],
            "text/plain": [
              "       Population     Profit\n",
              "count   96.000000  96.000000\n",
              "mean     8.181151   5.716709\n",
              "std      3.884451   5.404947\n",
              "min      5.026900  -2.680700\n",
              "25%      5.690950   1.952550\n",
              "50%      6.735950   4.455300\n",
              "75%      8.639925   6.879150\n",
              "max     22.203000  24.147000"
            ]
          },
          "metadata": {
            "tags": []
          },
          "execution_count": 5
        }
      ]
    },
    {
      "cell_type": "code",
      "metadata": {
        "id": "Ko3AE_tR73Tc",
        "colab_type": "code",
        "colab": {}
      },
      "source": [
        "import numpy as np\n",
        "X = data.iloc[:, 0].values\n",
        "X_new = np.c_[np.ones((len(X),1)),X]#adding exta ones to accomodate theta0\n",
        "y = np.c_[data.iloc[:,1]]#np.c_to convert 1D to 2D"
      ],
      "execution_count": 0,
      "outputs": []
    },
    {
      "cell_type": "code",
      "metadata": {
        "id": "-h2ICNFf2INm",
        "colab_type": "code",
        "colab": {}
      },
      "source": [
        "X= X.reshape(96,1)"
      ],
      "execution_count": 0,
      "outputs": []
    },
    {
      "cell_type": "code",
      "metadata": {
        "id": "m6Sh_JrVz5oo",
        "colab_type": "code",
        "colab": {}
      },
      "source": [
        "import matplotlib.pyplot as plt\n",
        "%matplotlib inline"
      ],
      "execution_count": 0,
      "outputs": []
    },
    {
      "cell_type": "code",
      "metadata": {
        "id": "LV7coYzV0QXe",
        "colab_type": "code",
        "outputId": "f1ffa963-f1e9-407f-d2bc-0b5cf14056ec",
        "colab": {
          "base_uri": "https://localhost:8080/",
          "height": 283
        }
      },
      "source": [
        "plt.scatter(X,y,c = 'r',s = 30,marker = 'x',linewidth = 1)"
      ],
      "execution_count": 9,
      "outputs": [
        {
          "output_type": "execute_result",
          "data": {
            "text/plain": [
              "<matplotlib.collections.PathCollection at 0x7f3f8a650240>"
            ]
          },
          "metadata": {
            "tags": []
          },
          "execution_count": 9
        },
        {
          "output_type": "display_data",
          "data": {
            "image/png": "[encoded data removed]",
            "text/plain": [
              "<Figure size 432x288 with 1 Axes>"
            ]
          },
          "metadata": {
            "tags": []
          }
        }
      ]
    },
    {
      "cell_type": "code",
      "metadata": {
        "id": "ZI0JfDol0Vc1",
        "colab_type": "code",
        "colab": {}
      },
      "source": [
        "def normal_method(X,y):\n",
        "  theta = np.linalg.inv(X.T.dot(X)).dot(X.T).dot(y)\n",
        "  y_pred = X.dot(theta)\n",
        "  return y_pred,theta"
      ],
      "execution_count": 0,
      "outputs": []
    },
    {
      "cell_type": "code",
      "metadata": {
        "id": "wb5XDr4f0kIJ",
        "colab_type": "code",
        "colab": {}
      },
      "source": [
        "predicted,best_theta = normal_method(X_new,y)"
      ],
      "execution_count": 0,
      "outputs": []
    },
    {
      "cell_type": "code",
      "metadata": {
        "id": "VQ7nO3Qz2AF3",
        "colab_type": "code",
        "outputId": "3b5c23a5-3ab3-4d20-8b7b-ad07c9680c8c",
        "colab": {
          "base_uri": "https://localhost:8080/",
          "height": 283
        }
      },
      "source": [
        "plt.scatter(X,y,c = 'b',s = 30,marker = 'o',linewidth = 1)\n",
        "plt.plot(X,predicted,'g-')#'-' makes it a line"
      ],
      "execution_count": 12,
      "outputs": [
        {
          "output_type": "execute_result",
          "data": {
            "text/plain": [
              "[<matplotlib.lines.Line2D at 0x7f3f8795f9b0>]"
            ]
          },
          "metadata": {
            "tags": []
          },
          "execution_count": 12
        },
        {
          "output_type": "display_data",
          "data": {
            "image/png": "[encoded data removed]",
            "text/plain": [
              "<Figure size 432x288 with 1 Axes>"
            ]
          },
          "metadata": {
            "tags": []
          }
        }
      ]
    },
    {
      "cell_type": "code",
      "metadata": {
        "id": "OUxiOdRJHRrC",
        "colab_type": "code",
        "outputId": "94942fa2-0489-4d58-c9f6-cfa09515a407",
        "colab": {
          "base_uri": "https://localhost:8080/",
          "height": 50
        }
      },
      "source": [
        "best_theta"
      ],
      "execution_count": 13,
      "outputs": [
        {
          "output_type": "execute_result",
          "data": {
            "text/plain": [
              "array([[-4.21150401],\n",
              "       [ 1.21354725]])"
            ]
          },
          "metadata": {
            "tags": []
          },
          "execution_count": 13
        }
      ]
    },
    {
      "cell_type": "code",
      "metadata": {
        "id": "00qELife3qja",
        "colab_type": "code",
        "colab": {}
      },
      "source": [
        "m = y.size\n",
        "def calc_cost(X,y,theta):\n",
        "   cost = 0\n",
        "   pred = X.dot(theta)\n",
        "   cost = (np.sum(np.square(pred - y)))/(2*m)\n",
        "   return cost\n"
      ],
      "execution_count": 0,
      "outputs": []
    },
    {
      "cell_type": "code",
      "metadata": {
        "id": "H9i2X81eFleq",
        "colab_type": "code",
        "outputId": "d4ce303e-6711-4335-bebe-b64cde3aedcd",
        "colab": {
          "base_uri": "https://localhost:8080/",
          "height": 34
        }
      },
      "source": [
        "theta = [[0],[0]]\n",
        "calc_cost(X_new, y, theta)"
      ],
      "execution_count": 15,
      "outputs": [
        {
          "output_type": "execute_result",
          "data": {
            "text/plain": [
              "30.79495785534583"
            ]
          },
          "metadata": {
            "tags": []
          },
          "execution_count": 15
        }
      ]
    },
    {
      "cell_type": "code",
      "metadata": {
        "id": "Jkab5pFlFyfR",
        "colab_type": "code",
        "colab": {}
      },
      "source": [
        "def gradient_descent(X,y,theta,alpha = 0.01,iters = 1000):\n",
        "  cost_history = []\n",
        "  theta_history = []\n",
        "  for it in range(iters):\n",
        "    pred = X.dot(theta)\n",
        "    theta = theta - ((alpha/m)*(X.T.dot(pred - y)))\n",
        "    cost_history.append(calc_cost(X,y,theta))\n",
        "    theta_history.append(theta)\n",
        "  return theta,cost_history,theta_history \n"
      ],
      "execution_count": 0,
      "outputs": []
    },
    {
      "cell_type": "code",
      "metadata": {
        "id": "GqF57ZcyGO1I",
        "colab_type": "code",
        "colab": {}
      },
      "source": [
        "iterations = 1500\n",
        "theta,cost_history,theta_history = gradient_descent(X_new,y,theta,0.02,iterations)\n",
        "\n"
      ],
      "execution_count": 0,
      "outputs": []
    },
    {
      "cell_type": "code",
      "metadata": {
        "id": "ejfI87WYJJWS",
        "colab_type": "code",
        "outputId": "f0bcb590-3739-4fd8-966b-bf6d88fb0bf7",
        "colab": {
          "base_uri": "https://localhost:8080/",
          "height": 67
        }
      },
      "source": [
        "print(\"theta 0 : {}\\ntheta1 : {}\\nMin Cost : {}\".format(theta[0],theta[1],cost_history[-1]))\n"
      ],
      "execution_count": 18,
      "outputs": [
        {
          "output_type": "stream",
          "text": [
            "theta 0 : [-4.19265464]\n",
            "theta1 : [1.21165934]\n",
            "Min Cost : 3.45961430702625\n"
          ],
          "name": "stdout"
        }
      ]
    },
    {
      "cell_type": "code",
      "metadata": {
        "id": "bYBiiHEgKcn8",
        "colab_type": "code",
        "outputId": "9e2c4c86-dfc2-40ac-9291-d1057f5c7412",
        "colab": {
          "base_uri": "https://localhost:8080/",
          "height": 283
        }
      },
      "source": [
        "plt.scatter(X,y,c = 'r',s = 30,marker = 'o',linewidth = 1)\n",
        "plt.plot(X,X_new.dot(theta),'b-')\n",
        "plt.legend(['Regression line','Training data'])"
      ],
      "execution_count": 19,
      "outputs": [
        {
          "output_type": "execute_result",
          "data": {
            "text/plain": [
              "<matplotlib.legend.Legend at 0x7f3f87848c88>"
            ]
          },
          "metadata": {
            "tags": []
          },
          "execution_count": 19
        },
        {
          "output_type": "display_data",
          "data": {
            "image/png": "[encoded data removed]",
            "text/plain": [
              "<Figure size 432x288 with 1 Axes>"
            ]
          },
          "metadata": {
            "tags": []
          }
        }
      ]
    },
    {
      "cell_type": "code",
      "metadata": {
        "id": "6WHN7T5OfVgm",
        "colab_type": "code",
        "outputId": "b8bc0b20-8ad8-4d29-b1e9-9e47de65dc59",
        "colab": {
          "base_uri": "https://localhost:8080/",
          "height": 282
        }
      },
      "source": [
        "plt.plot(range(iterations),cost_history,'b-')# alpha - 0.01 goes slower than 0.02"
      ],
      "execution_count": 20,
      "outputs": [
        {
          "output_type": "execute_result",
          "data": {
            "text/plain": [
              "[<matplotlib.lines.Line2D at 0x7f3f87837b70>]"
            ]
          },
          "metadata": {
            "tags": []
          },
          "execution_count": 20
        },
        {
          "output_type": "display_data",
          "data": {
            "image/png": "[encoded data removed]",
            "text/plain": [
              "<Figure size 432x288 with 1 Axes>"
            ]
          },
          "metadata": {
            "tags": []
          }
        }
      ]
    },
    {
      "cell_type": "markdown",
      "metadata": {
        "id": "umYMm38-gvrL",
        "colab_type": "text"
      },
      "source": [
        "### **Plotting GD with different alphas and iterations**"
      ]
    },
    {
      "cell_type": "code",
      "metadata": {
        "id": "6IZWsaiDdai-",
        "colab_type": "code",
        "colab": {}
      },
      "source": [
        "\n",
        "def plot_GD(n_iter,lr,ax,ax1=None):\n",
        "     \"\"\"\n",
        "     n_iter = no of iterations\n",
        "     lr = Learning Rate\n",
        "     ax = Axis to plot the Gradient Descent\n",
        "     ax1 = Axis to plot cost_history vs Iterations plot\n",
        "\n",
        "     \"\"\"\n",
        "     _ = ax.plot(X,y,'b.')\n",
        "     theta = np.random.randn(2,1)\n",
        "\n",
        "     tr =0.1\n",
        "     cost_history = np.zeros(n_iter)\n",
        "     for i in range(n_iter):\n",
        "        pred_prev = X_new.dot(theta)\n",
        "        theta,h,_ = gradient_descent(X_new,y,theta,lr,1)\n",
        "        pred = X_new.dot(theta)\n",
        "\n",
        "        cost_history[i] = h[0]\n",
        "\n",
        "        if ((i % 25 == 0) ):\n",
        "            _ = ax.plot(X,pred,'r-',alpha=tr)\n",
        "            if tr < 0.8:\n",
        "                tr = tr+0.2\n",
        "     if not ax1== None:\n",
        "        _ = ax1.plot(range(n_iter),cost_history,'b.')  "
      ],
      "execution_count": 0,
      "outputs": []
    },
    {
      "cell_type": "code",
      "metadata": {
        "id": "HWDJpRape-KS",
        "colab_type": "code",
        "outputId": "a8ca802c-13d7-446c-bf39-2a8c2e8c0064",
        "colab": {
          "base_uri": "https://localhost:8080/",
          "height": 1000
        }
      },
      "source": [
        "fig = plt.figure(figsize=(30,25))\n",
        "fig.subplots_adjust(hspace=0.4, wspace=0.4)\n",
        "\n",
        "it_lr =[(2000,0.001),(1000,0.003),(400,0.01),(100,0.02)]\n",
        "count =0\n",
        "for n_iter, lr in it_lr:\n",
        "    count += 1\n",
        "    \n",
        "    ax = fig.add_subplot(4, 2, count)\n",
        "    count += 1\n",
        "   \n",
        "    ax1 = fig.add_subplot(4,2,count)\n",
        "    \n",
        "    ax.set_title(\"lr:{}\".format(lr))\n",
        "    ax1.set_title(\"Iterations:{}\".format(n_iter))\n",
        "    plot_GD(n_iter,lr,ax,ax1)"
      ],
      "execution_count": 22,
      "outputs": [
        {
          "output_type": "display_data",
          "data": {
            "image/png": "[encoded data removed]",
            "text/plain": [
              "<Figure size 2160x1800 with 8 Axes>"
            ]
          },
          "metadata": {
            "tags": []
          }
        }
      ]
    },
    {
      "cell_type": "code",
      "metadata": {
        "id": "v2o9XsG7MOJ4",
        "colab_type": "code",
        "outputId": "45049b9e-96e3-481f-94ff-fe5478368544",
        "colab": {
          "base_uri": "https://localhost:8080/",
          "height": 84
        }
      },
      "source": [
        "# Predict values for population sizes of 35,000 and 70,000\n",
        "predict1 = np.dot([1, 3.5], theta)\n",
        "print('For population = 35,000, we predict a profit of {}\\n'.format(predict1*10000))\n",
        "\n",
        "predict2 = np.dot([1, 7], theta)\n",
        "print('For population = 70,000, we predict a profit of {}\\n'.format(predict2*10000))"
      ],
      "execution_count": 23,
      "outputs": [
        {
          "output_type": "stream",
          "text": [
            "For population = 35,000, we predict a profit of [481.53044786]\n",
            "\n",
            "For population = 70,000, we predict a profit of [42889.60729083]\n",
            "\n"
          ],
          "name": "stdout"
        }
      ]
    },
    {
      "cell_type": "code",
      "metadata": {
        "id": "s_CImKDQNm9F",
        "colab_type": "code",
        "colab": {}
      },
      "source": [
        "theta0vals = np.linspace(-10,10,100)#creates 100 values btw -10 and 10\n",
        "theta1vals = np.linspace(-1,4,100)\n",
        "#xx, yy = np.meshgrid(theta0vals, theta1vals, indexing='xy')\n",
        "J_vals = np.zeros((theta0vals.shape[0],theta1vals.shape[0]))\n",
        "\n",
        "for i,theta0 in enumerate(theta0vals):#enumerate gives counter,item over a iterable object\n",
        "  for j,theta1 in enumerate(theta1vals):\n",
        "    J_vals[i,j] = calc_cost(X_new,y,[theta0, theta1])\n",
        "\n",
        "J_vals = J_vals.T"
      ],
      "execution_count": 0,
      "outputs": []
    },
    {
      "cell_type": "code",
      "metadata": {
        "id": "XlHUAMEyQGDD",
        "colab_type": "code",
        "outputId": "390538bf-36bf-44bf-a5c9-289f50ca26d2",
        "colab": {
          "base_uri": "https://localhost:8080/",
          "height": 320
        }
      },
      "source": [
        "from mpl_toolkits.mplot3d import Axes3D\n",
        "fig = plt.figure(figsize = (12,5))\n",
        "ax = fig.add_subplot(121,projection='3d')# 121 means 1*2 dim and 1rst subplot\n",
        "ax.plot_surface(theta0vals,theta1vals,J_vals,cmap='viridis')\n",
        "\n",
        "plt.xlabel('theta0')\n",
        "plt.ylabel('theta1')\n",
        "plt.title('Surface')\n",
        "\n",
        "#ax = plt.subplot(122)\n",
        "#ax.contour(xx, yy, J_vals, rstride=1, cstride=1, alpha=0.6, cmap='viridis')\n",
        "#plt.xlabel('theta0')\n",
        "#plt.ylabel('theta1')\n",
        "#plt.plot(theta[0], theta[1], 'ro', ms=10, lw=2)\n",
        "#plt.title('Contour, showing minimum')\n"
      ],
      "execution_count": 25,
      "outputs": [
        {
          "output_type": "execute_result",
          "data": {
            "text/plain": [
              "Text(0.5, 0.92, 'Surface')"
            ]
          },
          "metadata": {
            "tags": []
          },
          "execution_count": 25
        },
        {
          "output_type": "display_data",
          "data": {
            "image/png": "[encoded data removed]",
            "text/plain": [
              "<Figure size 864x360 with 1 Axes>"
            ]
          },
          "metadata": {
            "tags": []
          }
        }
      ]
    },
    {
      "cell_type": "markdown",
      "metadata": {
        "id": "veW6uJyjiTy7",
        "colab_type": "text"
      },
      "source": [
        "# **Multivariate**"
      ]
    },
    {
      "cell_type": "code",
      "metadata": {
        "id": "THdP8105TZPf",
        "colab_type": "code",
        "colab": {}
      },
      "source": [
        "data2= pd.read_csv('https://raw.githubusercontent.com/UtkarshPathrabe/Machine-Learning-Stanford-University-Coursera/master/Programming%20Exercises/machine-learning-ex1/ex1/ex1data2.txt')"
      ],
      "execution_count": 0,
      "outputs": []
    },
    {
      "cell_type": "code",
      "metadata": {
        "id": "QvAFrvoViJ6v",
        "colab_type": "code",
        "colab": {}
      },
      "source": [
        "data2.columns = ['Size','Bedrooms','Price']"
      ],
      "execution_count": 0,
      "outputs": []
    },
    {
      "cell_type": "code",
      "metadata": {
        "id": "jBK-qfE8p8Sj",
        "colab_type": "code",
        "outputId": "c50c5ee8-f721-4203-989d-85ec6552f464",
        "colab": {
          "base_uri": "https://localhost:8080/",
          "height": 195
        }
      },
      "source": [
        "data2.head()"
      ],
      "execution_count": 28,
      "outputs": [
        {
          "output_type": "execute_result",
          "data": {
            "text/html": [
              "<div>\n",
              "<style scoped>\n",
              "    .dataframe tbody tr th:only-of-type {\n",
              "        vertical-align: middle;\n",
              "    }\n",
              "\n",
              "    .dataframe tbody tr th {\n",
              "        vertical-align: top;\n",
              "    }\n",
              "\n",
              "    .dataframe thead th {\n",
              "        text-align: right;\n",
              "    }\n",
              "</style>\n",
              "<table border=\"1\" class=\"dataframe\">\n",
              "  <thead>\n",
              "    <tr style=\"text-align: right;\">\n",
              "      <th></th>\n",
              "      <th>Size</th>\n",
              "      <th>Bedrooms</th>\n",
              "      <th>Price</th>\n",
              "    </tr>\n",
              "  </thead>\n",
              "  <tbody>\n",
              "    <tr>\n",
              "      <th>0</th>\n",
              "      <td>1600</td>\n",
              "      <td>3</td>\n",
              "      <td>329900</td>\n",
              "    </tr>\n",
              "    <tr>\n",
              "      <th>1</th>\n",
              "      <td>2400</td>\n",
              "      <td>3</td>\n",
              "      <td>369000</td>\n",
              "    </tr>\n",
              "    <tr>\n",
              "      <th>2</th>\n",
              "      <td>1416</td>\n",
              "      <td>2</td>\n",
              "      <td>232000</td>\n",
              "    </tr>\n",
              "    <tr>\n",
              "      <th>3</th>\n",
              "      <td>3000</td>\n",
              "      <td>4</td>\n",
              "      <td>539900</td>\n",
              "    </tr>\n",
              "    <tr>\n",
              "      <th>4</th>\n",
              "      <td>1985</td>\n",
              "      <td>4</td>\n",
              "      <td>299900</td>\n",
              "    </tr>\n",
              "  </tbody>\n",
              "</table>\n",
              "</div>"
            ],
            "text/plain": [
              "   Size  Bedrooms   Price\n",
              "0  1600         3  329900\n",
              "1  2400         3  369000\n",
              "2  1416         2  232000\n",
              "3  3000         4  539900\n",
              "4  1985         4  299900"
            ]
          },
          "metadata": {
            "tags": []
          },
          "execution_count": 28
        }
      ]
    },
    {
      "cell_type": "code",
      "metadata": {
        "id": "5lza1URzicsz",
        "colab_type": "code",
        "outputId": "f513dbea-e57f-4bf7-e0c4-f2bcfe231311",
        "colab": {
          "base_uri": "https://localhost:8080/",
          "height": 284
        }
      },
      "source": [
        "data2.describe()"
      ],
      "execution_count": 29,
      "outputs": [
        {
          "output_type": "execute_result",
          "data": {
            "text/html": [
              "<div>\n",
              "<style scoped>\n",
              "    .dataframe tbody tr th:only-of-type {\n",
              "        vertical-align: middle;\n",
              "    }\n",
              "\n",
              "    .dataframe tbody tr th {\n",
              "        vertical-align: top;\n",
              "    }\n",
              "\n",
              "    .dataframe thead th {\n",
              "        text-align: right;\n",
              "    }\n",
              "</style>\n",
              "<table border=\"1\" class=\"dataframe\">\n",
              "  <thead>\n",
              "    <tr style=\"text-align: right;\">\n",
              "      <th></th>\n",
              "      <th>Size</th>\n",
              "      <th>Bedrooms</th>\n",
              "      <th>Price</th>\n",
              "    </tr>\n",
              "  </thead>\n",
              "  <tbody>\n",
              "    <tr>\n",
              "      <th>count</th>\n",
              "      <td>46.000000</td>\n",
              "      <td>46.000000</td>\n",
              "      <td>46.000000</td>\n",
              "    </tr>\n",
              "    <tr>\n",
              "      <th>mean</th>\n",
              "      <td>1998.434783</td>\n",
              "      <td>3.173913</td>\n",
              "      <td>339119.456522</td>\n",
              "    </tr>\n",
              "    <tr>\n",
              "      <th>std</th>\n",
              "      <td>803.333019</td>\n",
              "      <td>0.768963</td>\n",
              "      <td>126103.418369</td>\n",
              "    </tr>\n",
              "    <tr>\n",
              "      <th>min</th>\n",
              "      <td>852.000000</td>\n",
              "      <td>1.000000</td>\n",
              "      <td>169900.000000</td>\n",
              "    </tr>\n",
              "    <tr>\n",
              "      <th>25%</th>\n",
              "      <td>1429.500000</td>\n",
              "      <td>3.000000</td>\n",
              "      <td>249900.000000</td>\n",
              "    </tr>\n",
              "    <tr>\n",
              "      <th>50%</th>\n",
              "      <td>1870.000000</td>\n",
              "      <td>3.000000</td>\n",
              "      <td>299900.000000</td>\n",
              "    </tr>\n",
              "    <tr>\n",
              "      <th>75%</th>\n",
              "      <td>2284.500000</td>\n",
              "      <td>4.000000</td>\n",
              "      <td>368875.000000</td>\n",
              "    </tr>\n",
              "    <tr>\n",
              "      <th>max</th>\n",
              "      <td>4478.000000</td>\n",
              "      <td>5.000000</td>\n",
              "      <td>699900.000000</td>\n",
              "    </tr>\n",
              "  </tbody>\n",
              "</table>\n",
              "</div>"
            ],
            "text/plain": [
              "              Size   Bedrooms          Price\n",
              "count    46.000000  46.000000      46.000000\n",
              "mean   1998.434783   3.173913  339119.456522\n",
              "std     803.333019   0.768963  126103.418369\n",
              "min     852.000000   1.000000  169900.000000\n",
              "25%    1429.500000   3.000000  249900.000000\n",
              "50%    1870.000000   3.000000  299900.000000\n",
              "75%    2284.500000   4.000000  368875.000000\n",
              "max    4478.000000   5.000000  699900.000000"
            ]
          },
          "metadata": {
            "tags": []
          },
          "execution_count": 29
        }
      ]
    },
    {
      "cell_type": "code",
      "metadata": {
        "id": "0VfZi3jMi5ri",
        "colab_type": "code",
        "colab": {}
      },
      "source": [
        "X1 = data2.iloc[:,:2]\n",
        "y1 = np.c_[data2.iloc[:,2]]"
      ],
      "execution_count": 0,
      "outputs": []
    },
    {
      "cell_type": "code",
      "metadata": {
        "id": "RFss9RTmi_8a",
        "colab_type": "code",
        "colab": {}
      },
      "source": [
        "m = y1.size # standardizing because size and no of bedrooms have a large difference in ranges ; converting to Gaussian distribution\n",
        "mean = np.zeros(X.shape[1])\n",
        "sd = np.zeros(X.shape[1])\n",
        "def norm(X):\n",
        " \n",
        "    X_norm = X.copy()\n",
        "    mean = np.mean(X,axis = 0)\n",
        "    sd = np.std(X,axis = 0)\n",
        "    #maxi = max(X[col])\n",
        "    #mini = min(X[col])\n",
        "    X_norm = (X_norm-mean)/sd\n",
        "    return mean,sd,X_norm"
      ],
      "execution_count": 0,
      "outputs": []
    },
    {
      "cell_type": "code",
      "metadata": {
        "id": "tNwP55mMmfL1",
        "colab_type": "code",
        "outputId": "5cac1b20-77b4-4f61-b3bd-59634669d06f",
        "colab": {
          "base_uri": "https://localhost:8080/",
          "height": 336
        }
      },
      "source": [
        "mu,std, Xnorm = norm(X1)\n",
        "print(\"Previous Mean\\n\",mu)\n",
        "print(\"\\nMean After\\n\",np.mean(Xnorm,axis = 0))\n",
        "print(\"\\nPrevious SD\\n\",std)\n",
        "print(\"\\nSD After\\n\",np.std(Xnorm,axis = 0))\n"
      ],
      "execution_count": 32,
      "outputs": [
        {
          "output_type": "stream",
          "text": [
            "Previous Mean\n",
            " Size        1998.434783\n",
            "Bedrooms       3.173913\n",
            "dtype: float64\n",
            "\n",
            "Mean After\n",
            " Size       -1.399846e-16\n",
            "Bedrooms    1.502421e-16\n",
            "dtype: float64\n",
            "\n",
            "Previous SD\n",
            " Size        794.553160\n",
            "Bedrooms      0.760559\n",
            "dtype: float64\n",
            "\n",
            "SD After\n",
            " Size        1.0\n",
            "Bedrooms    1.0\n",
            "dtype: float64\n"
          ],
          "name": "stdout"
        }
      ]
    },
    {
      "cell_type": "code",
      "metadata": {
        "id": "AocK46USnjIv",
        "colab_type": "code",
        "colab": {
          "base_uri": "https://localhost:8080/",
          "height": 284
        },
        "outputId": "8b2ccd87-7e6c-4265-ee3a-484a05c56e0f"
      },
      "source": [
        "Xnorm.describe()"
      ],
      "execution_count": 48,
      "outputs": [
        {
          "output_type": "execute_result",
          "data": {
            "text/html": [
              "<div>\n",
              "<style scoped>\n",
              "    .dataframe tbody tr th:only-of-type {\n",
              "        vertical-align: middle;\n",
              "    }\n",
              "\n",
              "    .dataframe tbody tr th {\n",
              "        vertical-align: top;\n",
              "    }\n",
              "\n",
              "    .dataframe thead th {\n",
              "        text-align: right;\n",
              "    }\n",
              "</style>\n",
              "<table border=\"1\" class=\"dataframe\">\n",
              "  <thead>\n",
              "    <tr style=\"text-align: right;\">\n",
              "      <th></th>\n",
              "      <th>Size</th>\n",
              "      <th>Bedrooms</th>\n",
              "    </tr>\n",
              "  </thead>\n",
              "  <tbody>\n",
              "    <tr>\n",
              "      <th>count</th>\n",
              "      <td>4.600000e+01</td>\n",
              "      <td>4.600000e+01</td>\n",
              "    </tr>\n",
              "    <tr>\n",
              "      <th>mean</th>\n",
              "      <td>-1.399846e-16</td>\n",
              "      <td>1.502421e-16</td>\n",
              "    </tr>\n",
              "    <tr>\n",
              "      <th>std</th>\n",
              "      <td>1.011050e+00</td>\n",
              "      <td>1.011050e+00</td>\n",
              "    </tr>\n",
              "    <tr>\n",
              "      <th>min</th>\n",
              "      <td>-1.442867e+00</td>\n",
              "      <td>-2.858310e+00</td>\n",
              "    </tr>\n",
              "    <tr>\n",
              "      <th>25%</th>\n",
              "      <td>-7.160437e-01</td>\n",
              "      <td>-2.286648e-01</td>\n",
              "    </tr>\n",
              "    <tr>\n",
              "      <th>50%</th>\n",
              "      <td>-1.616440e-01</td>\n",
              "      <td>-2.286648e-01</td>\n",
              "    </tr>\n",
              "    <tr>\n",
              "      <th>75%</th>\n",
              "      <td>3.600328e-01</td>\n",
              "      <td>1.086158e+00</td>\n",
              "    </tr>\n",
              "    <tr>\n",
              "      <th>max</th>\n",
              "      <td>3.120704e+00</td>\n",
              "      <td>2.400980e+00</td>\n",
              "    </tr>\n",
              "  </tbody>\n",
              "</table>\n",
              "</div>"
            ],
            "text/plain": [
              "               Size      Bedrooms\n",
              "count  4.600000e+01  4.600000e+01\n",
              "mean  -1.399846e-16  1.502421e-16\n",
              "std    1.011050e+00  1.011050e+00\n",
              "min   -1.442867e+00 -2.858310e+00\n",
              "25%   -7.160437e-01 -2.286648e-01\n",
              "50%   -1.616440e-01 -2.286648e-01\n",
              "75%    3.600328e-01  1.086158e+00\n",
              "max    3.120704e+00  2.400980e+00"
            ]
          },
          "metadata": {
            "tags": []
          },
          "execution_count": 48
        }
      ]
    },
    {
      "cell_type": "code",
      "metadata": {
        "id": "_Hok3qiSTK3j",
        "colab_type": "code",
        "colab": {}
      },
      "source": [
        "#Sklearn scaler\n",
        "from sklearn.preprocessing import StandardScaler\n",
        "scaler = StandardScaler()\n",
        "Xnorm1 = scaler.fit_transform(X1)"
      ],
      "execution_count": 0,
      "outputs": []
    },
    {
      "cell_type": "code",
      "metadata": {
        "id": "XLIRU6WhTZDE",
        "colab_type": "code",
        "outputId": "0f1bbefd-3c2b-4b18-9cd2-0279eff007e2",
        "colab": {
          "base_uri": "https://localhost:8080/",
          "height": 50
        }
      },
      "source": [
        "print(Xnorm1.mean(axis = 0))\n",
        "print(Xnorm1.std(axis = 0))\n"
      ],
      "execution_count": 34,
      "outputs": [
        {
          "output_type": "stream",
          "text": [
            "[-1.30330529e-16  1.74980803e-16]\n",
            "[1. 1.]\n"
          ],
          "name": "stdout"
        }
      ]
    },
    {
      "cell_type": "code",
      "metadata": {
        "id": "IvRoyweGnAg-",
        "colab_type": "code",
        "colab": {}
      },
      "source": [
        "X_new1 = np.c_[np.ones((m,1)),Xnorm1]\n",
        "theta_multi = np.zeros((3,1))"
      ],
      "execution_count": 0,
      "outputs": []
    },
    {
      "cell_type": "code",
      "metadata": {
        "id": "I91KXyTupaqF",
        "colab_type": "code",
        "outputId": "0257e3a7-4084-42ff-8e7a-5d5622bafac0",
        "colab": {
          "base_uri": "https://localhost:8080/",
          "height": 34
        }
      },
      "source": [
        "iterations =1000\n",
        "calc_cost(X_new1,y1,theta_multi)"
      ],
      "execution_count": 36,
      "outputs": [
        {
          "output_type": "execute_result",
          "data": {
            "text/plain": [
              "65279190347.902176"
            ]
          },
          "metadata": {
            "tags": []
          },
          "execution_count": 36
        }
      ]
    },
    {
      "cell_type": "code",
      "metadata": {
        "id": "wSicGYoPt6p6",
        "colab_type": "code",
        "colab": {}
      },
      "source": [
        "theta,cost_history,theta_history = gradient_descent(X_new1,y1,theta_multi,0.1,400)"
      ],
      "execution_count": 0,
      "outputs": []
    },
    {
      "cell_type": "code",
      "metadata": {
        "id": "40tGTZUZvkqE",
        "colab_type": "code",
        "outputId": "434c0937-aa73-43c3-d586-3c88c671d1e2",
        "colab": {
          "base_uri": "https://localhost:8080/",
          "height": 118
        }
      },
      "source": [
        "print(\"Best thetas\\n\",theta)\n",
        "print(\"\\nMin Cost\",cost_history[-1])"
      ],
      "execution_count": 40,
      "outputs": [
        {
          "output_type": "stream",
          "text": [
            "Best thetas\n",
            " [[339119.45652174]\n",
            " [110248.92073168]\n",
            " [ -6226.22577854]]\n",
            "\n",
            "Min Cost 2066502781.7118063\n"
          ],
          "name": "stdout"
        }
      ]
    },
    {
      "cell_type": "code",
      "metadata": {
        "id": "6YTY7uT1v5JU",
        "colab_type": "code",
        "outputId": "42264bfd-0a4c-4fe7-929f-f279f3261be6",
        "colab": {
          "base_uri": "https://localhost:8080/",
          "height": 293
        }
      },
      "source": [
        "plt.plot(np.arange(400),cost_history,'b-')"
      ],
      "execution_count": 41,
      "outputs": [
        {
          "output_type": "execute_result",
          "data": {
            "text/plain": [
              "[<matplotlib.lines.Line2D at 0x7f3f87898f98>]"
            ]
          },
          "metadata": {
            "tags": []
          },
          "execution_count": 41
        },
        {
          "output_type": "display_data",
          "data": {
            "image/png": "[encoded data removed]",
            "text/plain": [
              "<Figure size 432x288 with 1 Axes>"
            ]
          },
          "metadata": {
            "tags": []
          }
        }
      ]
    },
    {
      "cell_type": "code",
      "metadata": {
        "id": "iMOumseZbmnQ",
        "colab_type": "code",
        "outputId": "856c8487-b079-4325-f690-b364fbf90de2",
        "colab": {
          "base_uri": "https://localhost:8080/",
          "height": 293
        }
      },
      "source": [
        "plt.plot(np.arange(50),cost_history[:50],'b-')#Zooming into the 50 iterations timeline"
      ],
      "execution_count": 42,
      "outputs": [
        {
          "output_type": "execute_result",
          "data": {
            "text/plain": [
              "[<matplotlib.lines.Line2D at 0x7f3f797d20b8>]"
            ]
          },
          "metadata": {
            "tags": []
          },
          "execution_count": 42
        },
        {
          "output_type": "display_data",
          "data": {
            "image/png": "[encoded data removed]",
            "text/plain": [
              "<Figure size 432x288 with 1 Axes>"
            ]
          },
          "metadata": {
            "tags": []
          }
        }
      ]
    },
    {
      "cell_type": "code",
      "metadata": {
        "id": "0431UR5EayGP",
        "colab_type": "code",
        "outputId": "24f7df7e-a193-4450-bdb7-838d2473fd7e",
        "colab": {
          "base_uri": "https://localhost:8080/",
          "height": 67
        }
      },
      "source": [
        "#Normal method\n",
        "predicted,best_theta = normal_method(X_new1,y1)\n",
        "best_theta # negative theta for no of bedrooms"
      ],
      "execution_count": 43,
      "outputs": [
        {
          "output_type": "execute_result",
          "data": {
            "text/plain": [
              "array([[339119.45652174],\n",
              "       [110248.92165868],\n",
              "       [ -6226.22670553]])"
            ]
          },
          "metadata": {
            "tags": []
          },
          "execution_count": 43
        }
      ]
    },
    {
      "cell_type": "code",
      "metadata": {
        "id": "6ukwFUsjwGdk",
        "colab_type": "code",
        "colab": {}
      },
      "source": [
        "# Estimate the price of a 1650 sq-ft, 3 br house\n",
        "instance = [1,1650,3]\n",
        "#normalize\n",
        "instance[1:3] = (instance[1:3]-mu)/std\n",
        "i = np.array(instance)"
      ],
      "execution_count": 0,
      "outputs": []
    },
    {
      "cell_type": "code",
      "metadata": {
        "id": "QGCgRJcdZE7R",
        "colab_type": "code",
        "outputId": "fb935dcc-2d2e-4a9f-94aa-e721bb16f3ce",
        "colab": {
          "base_uri": "https://localhost:8080/",
          "height": 50
        }
      },
      "source": [
        "print(\"Predicted price of a 1650 sq-ft, 3 br house is (by GD)\",i.dot(theta))\n",
        "print(\"Predicted price of a 1650 sq-ft, 3 br house is (by normal method)\",i.dot(best_theta))"
      ],
      "execution_count": 45,
      "outputs": [
        {
          "output_type": "stream",
          "text": [
            "Predicted price of a 1650 sq-ft, 3 br house is (by GD) [292195.80114586]\n",
            "Predicted price of a 1650 sq-ft, 3 br house is (by normal method) [292195.80095132]\n"
          ],
          "name": "stdout"
        }
      ]
    }
  ]
}